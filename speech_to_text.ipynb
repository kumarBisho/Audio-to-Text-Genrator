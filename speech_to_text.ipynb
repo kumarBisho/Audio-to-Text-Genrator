{
 "cells": [
  {
   "cell_type": "code",
   "execution_count": 3,
   "id": "ced126cb-1364-4bed-95c9-176b6028a011",
   "metadata": {},
   "outputs": [],
   "source": [
    "# pip install pyaudio"
   ]
  },
  {
   "cell_type": "code",
   "execution_count": 4,
   "id": "8b0e4287-ecf4-4367-83f7-aef1bf3d106d",
   "metadata": {},
   "outputs": [],
   "source": [
    "# pip install pyttsx3"
   ]
  },
  {
   "cell_type": "code",
   "execution_count": 7,
   "id": "d2d7ac2d-abb4-4d95-859e-9e457fdcf869",
   "metadata": {},
   "outputs": [],
   "source": [
    "# pip install SpeechRecognition"
   ]
  },
  {
   "cell_type": "markdown",
   "id": "8fab2dfc-688d-4e0f-aecc-b0247d6bddd4",
   "metadata": {},
   "source": [
    "# Microphone audio to text generator"
   ]
  },
  {
   "cell_type": "code",
   "execution_count": 12,
   "id": "3c0ff0be-eb12-49a1-8242-35d03c99d769",
   "metadata": {},
   "outputs": [
    {
     "name": "stdout",
     "output_type": "stream",
     "text": [
      "unknown error occurred\n",
      "unknown error occurred\n",
      "unknown error occurred\n",
      "Did you say  hello\n",
      "Did you say  good evening\n",
      "Did you say  how r u\n",
      "Did you say  it is working fine\n",
      "unknown error occurred\n",
      "unknown error occurred\n"
     ]
    },
    {
     "ename": "KeyboardInterrupt",
     "evalue": "",
     "output_type": "error",
     "traceback": [
      "\u001b[1;31m---------------------------------------------------------------------------\u001b[0m",
      "\u001b[1;31mKeyboardInterrupt\u001b[0m                         Traceback (most recent call last)",
      "Cell \u001b[1;32mIn[12], line 13\u001b[0m\n\u001b[0;32m     10\u001b[0m r\u001b[38;5;241m.\u001b[39madjust_for_ambient_noise(source2, duration\u001b[38;5;241m=\u001b[39m\u001b[38;5;241m0.2\u001b[39m)\n\u001b[0;32m     12\u001b[0m \u001b[38;5;66;03m#listens for the user's input \u001b[39;00m\n\u001b[1;32m---> 13\u001b[0m audio2 \u001b[38;5;241m=\u001b[39m r\u001b[38;5;241m.\u001b[39mlisten(source2)\n\u001b[0;32m     15\u001b[0m \u001b[38;5;66;03m# Using google to recognize audio\u001b[39;00m\n\u001b[0;32m     16\u001b[0m MyText \u001b[38;5;241m=\u001b[39m r\u001b[38;5;241m.\u001b[39mrecognize_google(audio2)\n",
      "File \u001b[1;32mC:\\Anaconda\\Lib\\site-packages\\speech_recognition\\__init__.py:460\u001b[0m, in \u001b[0;36mRecognizer.listen\u001b[1;34m(self, source, timeout, phrase_time_limit, snowboy_configuration, stream)\u001b[0m\n\u001b[0;32m    458\u001b[0m result \u001b[38;5;241m=\u001b[39m \u001b[38;5;28mself\u001b[39m\u001b[38;5;241m.\u001b[39m_listen(source, timeout, phrase_time_limit, snowboy_configuration, stream)\n\u001b[0;32m    459\u001b[0m \u001b[38;5;28;01mif\u001b[39;00m \u001b[38;5;129;01mnot\u001b[39;00m stream:\n\u001b[1;32m--> 460\u001b[0m     \u001b[38;5;28;01mfor\u001b[39;00m a \u001b[38;5;129;01min\u001b[39;00m result:\n\u001b[0;32m    461\u001b[0m         \u001b[38;5;28;01mreturn\u001b[39;00m a\n\u001b[0;32m    462\u001b[0m \u001b[38;5;28;01mreturn\u001b[39;00m result\n",
      "File \u001b[1;32mC:\\Anaconda\\Lib\\site-packages\\speech_recognition\\__init__.py:530\u001b[0m, in \u001b[0;36mRecognizer._listen\u001b[1;34m(self, source, timeout, phrase_time_limit, snowboy_configuration, stream)\u001b[0m\n\u001b[0;32m    527\u001b[0m \u001b[38;5;28;01mif\u001b[39;00m phrase_time_limit \u001b[38;5;129;01mand\u001b[39;00m elapsed_time \u001b[38;5;241m-\u001b[39m phrase_start_time \u001b[38;5;241m>\u001b[39m phrase_time_limit:\n\u001b[0;32m    528\u001b[0m     \u001b[38;5;28;01mbreak\u001b[39;00m\n\u001b[1;32m--> 530\u001b[0m buffer \u001b[38;5;241m=\u001b[39m source\u001b[38;5;241m.\u001b[39mstream\u001b[38;5;241m.\u001b[39mread(source\u001b[38;5;241m.\u001b[39mCHUNK)\n\u001b[0;32m    531\u001b[0m \u001b[38;5;28;01mif\u001b[39;00m \u001b[38;5;28mlen\u001b[39m(buffer) \u001b[38;5;241m==\u001b[39m \u001b[38;5;241m0\u001b[39m: \u001b[38;5;28;01mbreak\u001b[39;00m  \u001b[38;5;66;03m# reached end of the stream\u001b[39;00m\n\u001b[0;32m    532\u001b[0m frames\u001b[38;5;241m.\u001b[39mappend(buffer)\n",
      "File \u001b[1;32mC:\\Anaconda\\Lib\\site-packages\\speech_recognition\\__init__.py:191\u001b[0m, in \u001b[0;36mMicrophone.MicrophoneStream.read\u001b[1;34m(self, size)\u001b[0m\n\u001b[0;32m    190\u001b[0m \u001b[38;5;28;01mdef\u001b[39;00m \u001b[38;5;21mread\u001b[39m(\u001b[38;5;28mself\u001b[39m, size):\n\u001b[1;32m--> 191\u001b[0m     \u001b[38;5;28;01mreturn\u001b[39;00m \u001b[38;5;28mself\u001b[39m\u001b[38;5;241m.\u001b[39mpyaudio_stream\u001b[38;5;241m.\u001b[39mread(size, exception_on_overflow\u001b[38;5;241m=\u001b[39m\u001b[38;5;28;01mFalse\u001b[39;00m)\n",
      "File \u001b[1;32mC:\\Anaconda\\Lib\\site-packages\\pyaudio\\__init__.py:570\u001b[0m, in \u001b[0;36mPyAudio.Stream.read\u001b[1;34m(self, num_frames, exception_on_overflow)\u001b[0m\n\u001b[0;32m    567\u001b[0m \u001b[38;5;28;01mif\u001b[39;00m \u001b[38;5;129;01mnot\u001b[39;00m \u001b[38;5;28mself\u001b[39m\u001b[38;5;241m.\u001b[39m_is_input:\n\u001b[0;32m    568\u001b[0m     \u001b[38;5;28;01mraise\u001b[39;00m \u001b[38;5;167;01mIOError\u001b[39;00m(\u001b[38;5;124m\"\u001b[39m\u001b[38;5;124mNot input stream\u001b[39m\u001b[38;5;124m\"\u001b[39m,\n\u001b[0;32m    569\u001b[0m                   paCanNotReadFromAnOutputOnlyStream)\n\u001b[1;32m--> 570\u001b[0m \u001b[38;5;28;01mreturn\u001b[39;00m pa\u001b[38;5;241m.\u001b[39mread_stream(\u001b[38;5;28mself\u001b[39m\u001b[38;5;241m.\u001b[39m_stream, num_frames,\n\u001b[0;32m    571\u001b[0m                       exception_on_overflow)\n",
      "\u001b[1;31mKeyboardInterrupt\u001b[0m: "
     ]
    }
   ],
   "source": [
    "import speech_recognition as sr\n",
    "import pyttsx3 \n",
    "\n",
    "r = sr.Recognizer() \n",
    "\n",
    "def SpeakText(command):\n",
    "    \n",
    "    # Initialize the engine\n",
    "    engine = pyttsx3.init()\n",
    "    engine.say(command) \n",
    "    engine.runAndWait()\n",
    "\n",
    "while(1):\n",
    "    try:\n",
    "        \n",
    "        # use the microphone as source for input.\n",
    "        with sr.Microphone() as source2:\n",
    "            \n",
    "            # wait for a second to let the recognizer\n",
    "            # adjust the energy threshold based on\n",
    "            # the surrounding noise level \n",
    "            r.adjust_for_ambient_noise(source2, duration=0.2)\n",
    "            \n",
    "            #listens for the user's input \n",
    "            audio2 = r.listen(source2)\n",
    "            \n",
    "            # Using google to recognize audio\n",
    "            MyText = r.recognize_google(audio2)\n",
    "            MyText = MyText.lower()\n",
    "\n",
    "            print(\"Did you say \",MyText)\n",
    "            SpeakText(MyText)\n",
    "            \n",
    "    except sr.RequestError as e:\n",
    "        print(\"Could not request results; {0}\".format(e))\n",
    "        \n",
    "    except sr.UnknownValueError:\n",
    "        print(\"unknown error occurred\")"
   ]
  },
  {
   "cell_type": "markdown",
   "id": "a5266d37-4c53-479f-a90d-e8696d180940",
   "metadata": {},
   "source": [
    "# mp3 file to text generator"
   ]
  },
  {
   "cell_type": "code",
   "execution_count": null,
   "id": "11700e30-547c-485d-b7bc-59688bd95013",
   "metadata": {},
   "outputs": [],
   "source": [
    "# pip install ffmpeg"
   ]
  },
  {
   "cell_type": "code",
   "execution_count": 22,
   "id": "a2ab9515-0c1f-4a6d-9b03-4c125fe59a23",
   "metadata": {},
   "outputs": [
    {
     "name": "stdout",
     "output_type": "stream",
     "text": [
      "Error: [WinError 2] The system cannot find the file specified\n"
     ]
    }
   ],
   "source": [
    "import speech_recognition as sr\n",
    "import pyttsx3 \n",
    "from pydub import AudioSegment\n",
    "\n",
    "# Initialize the recognizer\n",
    "r = sr.Recognizer()\n",
    "\n",
    "def SpeakText(command):\n",
    "    \"\"\"Function to convert text to speech\"\"\"\n",
    "    engine = pyttsx3.init()\n",
    "    engine.say(command)\n",
    "    engine.runAndWait()\n",
    "\n",
    "def convert_audio_to_text(mp3_file):\n",
    "    \"\"\"Function to convert an MP3 file to text\"\"\"\n",
    "    try:\n",
    "        # Convert MP3 to WAV (speech_recognition does not support MP3 directly)\n",
    "        audio = AudioSegment.from_mp3(mp3_file)\n",
    "        wav_file = \"converted_audio.wav\"\n",
    "        audio.export(wav_file, format=\"wav\")\n",
    "\n",
    "        # Load the converted WAV file\n",
    "        with sr.AudioFile(wav_file) as source:\n",
    "            r.adjust_for_ambient_noise(source)\n",
    "            audio_data = r.record(source)  # Read entire file\n",
    "\n",
    "            # Recognize speech using Google Web Speech API\n",
    "            text = r.recognize_google(audio_data)\n",
    "            text = text.lower()\n",
    "\n",
    "            print(\"Converted Text:\", text)\n",
    "            SpeakText(text)  # Optional: Speak the recognized text\n",
    "\n",
    "            return text\n",
    "\n",
    "    except sr.RequestError as e:\n",
    "        print(\"Could not request results; {0}\".format(e))\n",
    "    except sr.UnknownValueError:\n",
    "        print(\"Could not understand the audio.\")\n",
    "    except Exception as e:\n",
    "        print(\"Error:\", str(e))\n",
    "\n",
    "# Example usage\n",
    "mp3_file_path = \"audio3.mp3\"  # Replace with your MP3 file path\n",
    "convert_audio_to_text(mp3_file_path)\n"
   ]
  },
  {
   "cell_type": "code",
   "execution_count": null,
   "id": "4db3bb7f-db74-488d-bde3-5b58e5859286",
   "metadata": {},
   "outputs": [],
   "source": []
  }
 ],
 "metadata": {
  "kernelspec": {
   "display_name": "Python 3 (ipykernel)",
   "language": "python",
   "name": "python3"
  },
  "language_info": {
   "codemirror_mode": {
    "name": "ipython",
    "version": 3
   },
   "file_extension": ".py",
   "mimetype": "text/x-python",
   "name": "python",
   "nbconvert_exporter": "python",
   "pygments_lexer": "ipython3",
   "version": "3.11.7"
  }
 },
 "nbformat": 4,
 "nbformat_minor": 5
}
